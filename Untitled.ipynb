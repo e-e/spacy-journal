{
 "cells": [
  {
   "cell_type": "code",
   "execution_count": 37,
   "id": "e8553b30-1050-4fca-bab2-94db87e5ecf0",
   "metadata": {},
   "outputs": [
    {
     "name": "stdout",
     "output_type": "stream",
     "text": [
      "[('だ', 'GRAMMAR', 'N5_L01_001')]\n",
      "です\n",
      "[('です', 'GRAMMAR', 'N5_L01_002')]\n",
      "+++++++++++++++\n",
      "['PRON', '代名詞', '']\n",
      "['ADP', '助詞-係助詞', '']\n",
      "['ADP', '助詞-係助詞', '']\n",
      "['AUX', '助動詞', 'GRAMMAR']\n",
      "['PUNCT', '補助記号-句点', '']\n"
     ]
    }
   ],
   "source": [
    "import spacy\n",
    "\n",
    "nlp = spacy.load(\"ja_core_news_lg\")\n",
    "ruler = nlp.add_pipe(\"entity_ruler\")\n",
    "\n",
    "patterns = [{\"label\": \"GRAMMAR\", \"pattern\": [{\"LEMMA\": \"です\", \"POS\": \"AUX\"},], \"id\": \"N5_L01_002\"},\n",
    "            {\"label\": \"GRAMMAR\", \"pattern\": [{\"LEMMA\": \"だ\", \"POS\": \"AUX\"},], \"id\": \"N5_L01_001\"}]\n",
    "ruler.add_patterns(patterns)\n",
    "\n",
    "doc1 = nlp(\"これは本だ。\")\n",
    "print([(ent.text, ent.label_, ent.ent_id_) for ent in doc1.ents])\n",
    "\n",
    "doc2 = nlp(\"これも本です。\")\n",
    "\n",
    "for entity in doc2.ents:\n",
    "    for token in entity:\n",
    "        print(token.text)\n",
    "\n",
    "\n",
    "    \n",
    "print([(ent.text, ent.label_, ent.ent_id_) for ent in doc2.ents])\n",
    "\n",
    "# for token in doc2:\n",
    "#     print(token)\n",
    "\n",
    "\n",
    "doc = nlp(\"これはもです。\")\n",
    "\n",
    "print(\"+++++++++++++++\")\n",
    "\n",
    "for sentence in doc.sents:\n",
    "    for token in sentence:\n",
    "        print([token.pos_, token.tag_, token.ent_type_])\n",
    "\n",
    "\n"
   ]
  },
  {
   "cell_type": "code",
   "execution_count": null,
   "id": "e0f37d3a-7f5e-48a8-a904-f598e9ae201d",
   "metadata": {},
   "outputs": [],
   "source": []
  }
 ],
 "metadata": {
  "kernelspec": {
   "display_name": "Python 3 (ipykernel)",
   "language": "python",
   "name": "python3"
  },
  "language_info": {
   "codemirror_mode": {
    "name": "ipython",
    "version": 3
   },
   "file_extension": ".py",
   "mimetype": "text/x-python",
   "name": "python",
   "nbconvert_exporter": "python",
   "pygments_lexer": "ipython3",
   "version": "3.10.6"
  }
 },
 "nbformat": 4,
 "nbformat_minor": 5
}
